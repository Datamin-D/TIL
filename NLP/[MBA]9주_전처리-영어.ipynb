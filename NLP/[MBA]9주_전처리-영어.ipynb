{
  "nbformat": 4,
  "nbformat_minor": 0,
  "metadata": {
    "colab": {
      "name": "[MBA]9주 전처리",
      "provenance": [],
      "collapsed_sections": [],
      "authorship_tag": "ABX9TyN70jHAFFZZf1ZGBsPh4JwV",
      "include_colab_link": true
    },
    "kernelspec": {
      "name": "python3",
      "display_name": "Python 3"
    },
    "language_info": {
      "name": "python"
    }
  },
  "cells": [
    {
      "cell_type": "markdown",
      "metadata": {
        "id": "view-in-github",
        "colab_type": "text"
      },
      "source": [
        "<a href=\"https://colab.research.google.com/github/Datamin-D/TIL/blob/master/%5BMBA%5D9%EC%A3%BC_%EC%A0%84%EC%B2%98%EB%A6%AC-%EC%98%81%EC%96%B4.ipynb\" target=\"_parent\"><img src=\"https://colab.research.google.com/assets/colab-badge.svg\" alt=\"Open In Colab\"/></a>"
      ]
    },
    {
      "cell_type": "code",
      "metadata": {
        "colab": {
          "base_uri": "https://localhost:8080/",
          "height": 35
        },
        "id": "cky8J637gPPW",
        "outputId": "2d74ed28-4264-49c7-a5e0-b5d99f3c0db5"
      },
      "source": [
        "sent = \"\"\"Min and Ingpa \"\"\"\n",
        "sent.lower()"
      ],
      "execution_count": null,
      "outputs": [
        {
          "output_type": "execute_result",
          "data": {
            "application/vnd.google.colaboratory.intrinsic+json": {
              "type": "string"
            },
            "text/plain": [
              "'min and ingpa '"
            ]
          },
          "metadata": {
            "tags": []
          },
          "execution_count": 35
        }
      ]
    },
    {
      "cell_type": "code",
      "metadata": {
        "colab": {
          "base_uri": "https://localhost:8080/",
          "height": 35
        },
        "id": "dzsgCCKMi7gI",
        "outputId": "fb45b28a-d74b-4e0d-9e95-f1b0bed5a262"
      },
      "source": [
        "import re\n",
        "p = re.compile('[a-zA-Z]*\\s*[a-z]*')\n",
        "m = p.search(sent)\n",
        "m.group()"
      ],
      "execution_count": null,
      "outputs": [
        {
          "output_type": "execute_result",
          "data": {
            "application/vnd.google.colaboratory.intrinsic+json": {
              "type": "string"
            },
            "text/plain": [
              "'Min and'"
            ]
          },
          "metadata": {
            "tags": []
          },
          "execution_count": 36
        }
      ]
    },
    {
      "cell_type": "code",
      "metadata": {
        "id": "ESGZuiXmjCOt"
      },
      "source": [
        "p = re.compile('[abc]* * ')\n",
        "m = p.match('abcd')\n",
        "m"
      ],
      "execution_count": null,
      "outputs": []
    },
    {
      "cell_type": "code",
      "metadata": {
        "id": "A2p5niJ1k_QV"
      },
      "source": [
        "p = re.compile('\\W+')\n",
        "\n",
        "review = \"\"\"\n",
        "George get out! what the-?1\n",
        "\"\"\"\n",
        "p.sub(\" \",review)"
      ],
      "execution_count": null,
      "outputs": []
    },
    {
      "cell_type": "code",
      "metadata": {
        "id": "5PAOdKsqm6MS"
      },
      "source": [
        "from nltk.tokenize import word_tokenize\n",
        "import nltk\n",
        "nltk.download('stopwords')\n",
        "from nltk.corpus import stopwords"
      ],
      "execution_count": null,
      "outputs": []
    },
    {
      "cell_type": "code",
      "metadata": {
        "colab": {
          "base_uri": "https://localhost:8080/"
        },
        "id": "76s8FNtRoKPA",
        "outputId": "047f57f0-e5ae-477b-8d0b-1d40a5946ee9"
      },
      "source": [
        "stopwords.words('english')[:10]"
      ],
      "execution_count": null,
      "outputs": [
        {
          "output_type": "execute_result",
          "data": {
            "text/plain": [
              "['i', 'me', 'my', 'myself', 'we', 'our', 'ours', 'ourselves', 'you', \"you're\"]"
            ]
          },
          "metadata": {
            "tags": []
          },
          "execution_count": 39
        }
      ]
    },
    {
      "cell_type": "code",
      "metadata": {
        "colab": {
          "base_uri": "https://localhost:8080/"
        },
        "id": "Coq9JCIjoSGw",
        "outputId": "a8185389-1fa2-4416-92ac-fb0d71a6de47"
      },
      "source": [
        "from nltk.stem import WordNetLemmatizer\n",
        "n=WordNetLemmatizer()\n",
        "nltk.download('wordnet')\n",
        "\n",
        "words=['policy', 'doing', 'organization', 'have', 'going', 'love', 'lives', 'fly', 'dies', 'watched', 'has', 'starting']\n",
        "print([n.lemmatize(w) for w in words])"
      ],
      "execution_count": null,
      "outputs": [
        {
          "output_type": "stream",
          "text": [
            "[nltk_data] Downloading package wordnet to /root/nltk_data...\n",
            "[nltk_data]   Package wordnet is already up-to-date!\n",
            "['policy', 'doing', 'organization', 'have', 'going', 'love', 'life', 'fly', 'dy', 'watched', 'ha', 'starting']\n"
          ],
          "name": "stdout"
        }
      ]
    },
    {
      "cell_type": "code",
      "metadata": {
        "colab": {
          "base_uri": "https://localhost:8080/"
        },
        "id": "l8JrRwQqqB0B",
        "outputId": "1b05fcf4-6f65-49d4-f55c-946e68d354ff"
      },
      "source": [
        "#word 전처리 수업에서  쓰는 라이브러리\n",
        "from nltk.tokenize import word_tokenize\n",
        "import nltk\n",
        "nltk.download('stopwords')\n",
        "from nltk.corpus import stopwords\n",
        "from nltk.stem import WordNetLemmatizer\n",
        "n=WordNetLemmatizer()\n",
        "nltk.download('wordnet')\n",
        "import re\n",
        "nltk.download('punkt')\n",
        "\n",
        "#stopwords\n",
        "stop_words = set(stopwords.words('english')) "
      ],
      "execution_count": null,
      "outputs": [
        {
          "output_type": "stream",
          "text": [
            "[nltk_data] Downloading package stopwords to /root/nltk_data...\n",
            "[nltk_data]   Package stopwords is already up-to-date!\n",
            "[nltk_data] Downloading package wordnet to /root/nltk_data...\n",
            "[nltk_data]   Package wordnet is already up-to-date!\n",
            "[nltk_data] Downloading package punkt to /root/nltk_data...\n",
            "[nltk_data]   Package punkt is already up-to-date!\n"
          ],
          "name": "stdout"
        }
      ]
    },
    {
      "cell_type": "code",
      "metadata": {
        "colab": {
          "base_uri": "https://localhost:8080/"
        },
        "id": "rdixUohgqe7s",
        "outputId": "7ca77c11-682e-4b4f-8126-85108ea304c8"
      },
      "source": [
        "review2=\"\"\"\n",
        "It's the opposite of everything they told you it's going to be, it's not inspiring, not touching, has no plot and boring af. If this movie is \"filled with emotions\" then i'm happy to be dead inside :)\n",
        "\"\"\"\n",
        "\n",
        "review2_low=review2.lower()\n",
        "\n",
        "p=re.compile(\"[0-9]+\")\n",
        "review2_n_remove=p.sub(\"\", review2_low)\n",
        "\n",
        "p=re.compile(\"\\W+\")\n",
        "review2_p_remove=p.sub(\" \", review2_n_remove)\n",
        "\n",
        "word_tokens2 = word_tokenize(review2_p_remove)\n",
        "\n",
        "result2 = []\n",
        "for w in word_tokens2: \n",
        "    if w not in stop_words: \n",
        "        result2.append(w) \n",
        "\n",
        "print(word_tokens2) \n",
        "print(result2) "
      ],
      "execution_count": null,
      "outputs": [
        {
          "output_type": "stream",
          "text": [
            "['it', 's', 'the', 'opposite', 'of', 'everything', 'they', 'told', 'you', 'it', 's', 'going', 'to', 'be', 'it', 's', 'not', 'inspiring', 'not', 'touching', 'has', 'no', 'plot', 'and', 'boring', 'af', 'if', 'this', 'movie', 'is', 'filled', 'with', 'emotions', 'then', 'i', 'm', 'happy', 'to', 'be', 'dead', 'inside']\n",
            "['opposite', 'everything', 'told', 'going', 'inspiring', 'touching', 'plot', 'boring', 'af', 'movie', 'filled', 'emotions', 'happy', 'dead', 'inside']\n"
          ],
          "name": "stdout"
        }
      ]
    },
    {
      "cell_type": "markdown",
      "metadata": {
        "id": "ZhKnTjdALn17"
      },
      "source": [
        "# lab1"
      ]
    },
    {
      "cell_type": "code",
      "metadata": {
        "colab": {
          "base_uri": "https://localhost:8080/",
          "height": 87
        },
        "id": "xPpt0rPuwujz",
        "outputId": "60945239-840d-4566-93bf-7a37cdafe9ad"
      },
      "source": [
        "review1"
      ],
      "execution_count": null,
      "outputs": [
        {
          "output_type": "execute_result",
          "data": {
            "application/vnd.google.colaboratory.intrinsic+json": {
              "type": "string"
            },
            "text/plain": [
              "\"I LOVE this phone! Seriously such an improvement from my old one. Everything works as designed and when it doesn't, it's definitely user error (fingerprint reader). The battery normally lasts me all day but there have been times I've had to charge once during heavy use. Generally, it charges within an hour and life is good again. I'm just getting to know the personalized battery adjustments, but it seems awesome so far! Best thing though is I didn't have to spend an absurd amount of money. Oh, and the color is my favorite \\uf60dOne person found this helpful\""
            ]
          },
          "metadata": {
            "tags": []
          },
          "execution_count": 81
        }
      ]
    },
    {
      "cell_type": "code",
      "metadata": {
        "colab": {
          "base_uri": "https://localhost:8080/"
        },
        "id": "9c-5Iv2hwh9_",
        "outputId": "ec1d59ff-c396-44fb-da1f-8212843b5c44"
      },
      "source": [
        "# lab1\n",
        "\n",
        "#review data\n",
        "review1=\"\"\"I LOVE this phone! Seriously such an improvement from my old one. Everything works as designed and when it doesn't, it's definitely user error (fingerprint reader). The battery normally lasts me all day but there have been times I've had to charge once during heavy use. Generally, it charges within an hour and life is good again. I'm just getting to know the personalized battery adjustments, but it seems awesome so far! Best thing though is I didn't have to spend an absurd amount of money. Oh, and the color is my favorite One person found this helpful\"\"\"\n",
        "review2=\"\"\"I rarely write reviews, but Samsung's latest iteration of \"the idiot consumer will buy whatever we put out\" certainly deserves one.Everything about this phone sceams cheap. From the tacky plastic backing, the rectangular brick like design, to the complete lack of accessories that come with the phone. The phone feels like it should be priced at $300-400 at most.I'll compare this to the S20. Which wasn't particularly great, but is better than this phone.S20 feels more premium, is thinner, and looks better. Oh yeah, and it also has 12gb of ram, compared to the 8gb this phone has. For the most part, the phones are very similar performance wise (the s21 has a faster processor, but you really don't notice it in day to day use)Both phone have relatively poor battery life.The S20 has a better looking screen than than the S21.The embedded fingerprint sensor on both, are poor and unreliable (the S9 was far better both the location and functionality).Wireless charging with even the thinnest of cases does not work.Samsung bloatware slows down both phones and is an annoyance.Still no way to get rid of the useless and annoying bixby.Overall if you have a chance to purchase the S20 for the same price as the S21, the S20 is the better phone. It feels more solid, despite its flaws, and it's performance is almost identical. While you get one additional update with the S21, anyone who has had a Samsung phone in the last several years knows that Samsung phones don't last three years anyway (see the well known defective moisture detected flaw).Unfortunately, Samsung absolutely does not stand behind their products (their home appliances are even less reliable than their phones and TV's), they are a company that looks for any excuse to evade the contractual obligation through their warranties. i.e. market a phone as water proof, then won't cover it because they claim it was probably in salt water etc.\"\"\"\n",
        "\n",
        "\n",
        "# 대소문자 처리\n",
        "#review1_low = review1.lower()\n",
        "review2_upp = review2.upper()\n",
        "#print(review1_low)\n",
        "print(review2_upp)\n"
      ],
      "execution_count": null,
      "outputs": [
        {
          "output_type": "stream",
          "text": [
            "I RARELY WRITE REVIEWS, BUT SAMSUNG'S LATEST ITERATION OF \"THE IDIOT CONSUMER WILL BUY WHATEVER WE PUT OUT\" CERTAINLY DESERVES ONE.EVERYTHING ABOUT THIS PHONE SCEAMS CHEAP. FROM THE TACKY PLASTIC BACKING, THE RECTANGULAR BRICK LIKE DESIGN, TO THE COMPLETE LACK OF ACCESSORIES THAT COME WITH THE PHONE. THE PHONE FEELS LIKE IT SHOULD BE PRICED AT $300-400 AT MOST.I'LL COMPARE THIS TO THE S20. WHICH WASN'T PARTICULARLY GREAT, BUT IS BETTER THAN THIS PHONE.S20 FEELS MORE PREMIUM, IS THINNER, AND LOOKS BETTER. OH YEAH, AND IT ALSO HAS 12GB OF RAM, COMPARED TO THE 8GB THIS PHONE HAS. FOR THE MOST PART, THE PHONES ARE VERY SIMILAR PERFORMANCE WISE (THE S21 HAS A FASTER PROCESSOR, BUT YOU REALLY DON'T NOTICE IT IN DAY TO DAY USE)BOTH PHONE HAVE RELATIVELY POOR BATTERY LIFE.THE S20 HAS A BETTER LOOKING SCREEN THAN THAN THE S21.THE EMBEDDED FINGERPRINT SENSOR ON BOTH, ARE POOR AND UNRELIABLE (THE S9 WAS FAR BETTER BOTH THE LOCATION AND FUNCTIONALITY).WIRELESS CHARGING WITH EVEN THE THINNEST OF CASES DOES NOT WORK.SAMSUNG BLOATWARE SLOWS DOWN BOTH PHONES AND IS AN ANNOYANCE.STILL NO WAY TO GET RID OF THE USELESS AND ANNOYING BIXBY.OVERALL IF YOU HAVE A CHANCE TO PURCHASE THE S20 FOR THE SAME PRICE AS THE S21, THE S20 IS THE BETTER PHONE. IT FEELS MORE SOLID, DESPITE ITS FLAWS, AND IT'S PERFORMANCE IS ALMOST IDENTICAL. WHILE YOU GET ONE ADDITIONAL UPDATE WITH THE S21, ANYONE WHO HAS HAD A SAMSUNG PHONE IN THE LAST SEVERAL YEARS KNOWS THAT SAMSUNG PHONES DON'T LAST THREE YEARS ANYWAY (SEE THE WELL KNOWN DEFECTIVE MOISTURE DETECTED FLAW).UNFORTUNATELY, SAMSUNG ABSOLUTELY DOES NOT STAND BEHIND THEIR PRODUCTS (THEIR HOME APPLIANCES ARE EVEN LESS RELIABLE THAN THEIR PHONES AND TV'S), THEY ARE A COMPANY THAT LOOKS FOR ANY EXCUSE TO EVADE THE CONTRACTUAL OBLIGATION THROUGH THEIR WARRANTIES. I.E. MARKET A PHONE AS WATER PROOF, THEN WON'T COVER IT BECAUSE THEY CLAIM IT WAS PROBABLY IN SALT WATER ETC.\n"
          ],
          "name": "stdout"
        }
      ]
    },
    {
      "cell_type": "code",
      "metadata": {
        "id": "KvjiWCu_rQFH",
        "colab": {
          "base_uri": "https://localhost:8080/"
        },
        "outputId": "6d351117-e41c-4a90-a0b3-695e301feb31"
      },
      "source": [
        "\n",
        "# 숫자 제거 \n",
        "\n",
        "p=re.compile(\"[0-9]+\")\n",
        "review1_n_remove=p.sub(\" \", review1_low)\n",
        "#print(review1_n_remove)\n",
        "review2_n_remove=p.sub(\" \", review2_upp)\n",
        "print(review2_n_remove)\n"
      ],
      "execution_count": null,
      "outputs": [
        {
          "output_type": "stream",
          "text": [
            "I RARELY WRITE REVIEWS, BUT SAMSUNG'S LATEST ITERATION OF \"THE IDIOT CONSUMER WILL BUY WHATEVER WE PUT OUT\" CERTAINLY DESERVES ONE.EVERYTHING ABOUT THIS PHONE SCEAMS CHEAP. FROM THE TACKY PLASTIC BACKING, THE RECTANGULAR BRICK LIKE DESIGN, TO THE COMPLETE LACK OF ACCESSORIES THAT COME WITH THE PHONE. THE PHONE FEELS LIKE IT SHOULD BE PRICED AT $ -  AT MOST.I'LL COMPARE THIS TO THE S . WHICH WASN'T PARTICULARLY GREAT, BUT IS BETTER THAN THIS PHONE.S  FEELS MORE PREMIUM, IS THINNER, AND LOOKS BETTER. OH YEAH, AND IT ALSO HAS  GB OF RAM, COMPARED TO THE  GB THIS PHONE HAS. FOR THE MOST PART, THE PHONES ARE VERY SIMILAR PERFORMANCE WISE (THE S  HAS A FASTER PROCESSOR, BUT YOU REALLY DON'T NOTICE IT IN DAY TO DAY USE)BOTH PHONE HAVE RELATIVELY POOR BATTERY LIFE.THE S  HAS A BETTER LOOKING SCREEN THAN THAN THE S .THE EMBEDDED FINGERPRINT SENSOR ON BOTH, ARE POOR AND UNRELIABLE (THE S  WAS FAR BETTER BOTH THE LOCATION AND FUNCTIONALITY).WIRELESS CHARGING WITH EVEN THE THINNEST OF CASES DOES NOT WORK.SAMSUNG BLOATWARE SLOWS DOWN BOTH PHONES AND IS AN ANNOYANCE.STILL NO WAY TO GET RID OF THE USELESS AND ANNOYING BIXBY.OVERALL IF YOU HAVE A CHANCE TO PURCHASE THE S  FOR THE SAME PRICE AS THE S , THE S  IS THE BETTER PHONE. IT FEELS MORE SOLID, DESPITE ITS FLAWS, AND IT'S PERFORMANCE IS ALMOST IDENTICAL. WHILE YOU GET ONE ADDITIONAL UPDATE WITH THE S , ANYONE WHO HAS HAD A SAMSUNG PHONE IN THE LAST SEVERAL YEARS KNOWS THAT SAMSUNG PHONES DON'T LAST THREE YEARS ANYWAY (SEE THE WELL KNOWN DEFECTIVE MOISTURE DETECTED FLAW).UNFORTUNATELY, SAMSUNG ABSOLUTELY DOES NOT STAND BEHIND THEIR PRODUCTS (THEIR HOME APPLIANCES ARE EVEN LESS RELIABLE THAN THEIR PHONES AND TV'S), THEY ARE A COMPANY THAT LOOKS FOR ANY EXCUSE TO EVADE THE CONTRACTUAL OBLIGATION THROUGH THEIR WARRANTIES. I.E. MARKET A PHONE AS WATER PROOF, THEN WON'T COVER IT BECAUSE THEY CLAIM IT WAS PROBABLY IN SALT WATER ETC.\n"
          ],
          "name": "stdout"
        }
      ]
    },
    {
      "cell_type": "code",
      "metadata": {
        "id": "o4aoB1rBx0Ou"
      },
      "source": [
        "#문장부호, 특수문자 제거\n",
        "p=re.compile(\"\\W+\")\n",
        "review1_p_remove=p.sub(\" \", review1_n_remove)\n",
        "review2_p_remove=p.sub(\" \", review2_n_remove)"
      ],
      "execution_count": null,
      "outputs": []
    },
    {
      "cell_type": "code",
      "metadata": {
        "colab": {
          "base_uri": "https://localhost:8080/"
        },
        "id": "ZIe6x0F9zXaa",
        "outputId": "7350ead9-14af-4c6f-f27b-a1a2c74d3b09"
      },
      "source": [
        "#토큰화\n",
        "word_token1 = word_tokenize(review1_p_remove)\n",
        "word_token2 = word_tokenize(review2_p_remove)\n",
        "#print(word_token1)\n",
        "print(word_token2)"
      ],
      "execution_count": null,
      "outputs": [
        {
          "output_type": "stream",
          "text": [
            "['I', 'RARELY', 'WRITE', 'REVIEWS', 'BUT', 'SAMSUNG', 'S', 'LATEST', 'ITERATION', 'OF', 'THE', 'IDIOT', 'CONSUMER', 'WILL', 'BUY', 'WHATEVER', 'WE', 'PUT', 'OUT', 'CERTAINLY', 'DESERVES', 'ONE', 'EVERYTHING', 'ABOUT', 'THIS', 'PHONE', 'SCEAMS', 'CHEAP', 'FROM', 'THE', 'TACKY', 'PLASTIC', 'BACKING', 'THE', 'RECTANGULAR', 'BRICK', 'LIKE', 'DESIGN', 'TO', 'THE', 'COMPLETE', 'LACK', 'OF', 'ACCESSORIES', 'THAT', 'COME', 'WITH', 'THE', 'PHONE', 'THE', 'PHONE', 'FEELS', 'LIKE', 'IT', 'SHOULD', 'BE', 'PRICED', 'AT', 'AT', 'MOST', 'I', 'LL', 'COMPARE', 'THIS', 'TO', 'THE', 'S', 'WHICH', 'WASN', 'T', 'PARTICULARLY', 'GREAT', 'BUT', 'IS', 'BETTER', 'THAN', 'THIS', 'PHONE', 'S', 'FEELS', 'MORE', 'PREMIUM', 'IS', 'THINNER', 'AND', 'LOOKS', 'BETTER', 'OH', 'YEAH', 'AND', 'IT', 'ALSO', 'HAS', 'GB', 'OF', 'RAM', 'COMPARED', 'TO', 'THE', 'GB', 'THIS', 'PHONE', 'HAS', 'FOR', 'THE', 'MOST', 'PART', 'THE', 'PHONES', 'ARE', 'VERY', 'SIMILAR', 'PERFORMANCE', 'WISE', 'THE', 'S', 'HAS', 'A', 'FASTER', 'PROCESSOR', 'BUT', 'YOU', 'REALLY', 'DON', 'T', 'NOTICE', 'IT', 'IN', 'DAY', 'TO', 'DAY', 'USE', 'BOTH', 'PHONE', 'HAVE', 'RELATIVELY', 'POOR', 'BATTERY', 'LIFE', 'THE', 'S', 'HAS', 'A', 'BETTER', 'LOOKING', 'SCREEN', 'THAN', 'THAN', 'THE', 'S', 'THE', 'EMBEDDED', 'FINGERPRINT', 'SENSOR', 'ON', 'BOTH', 'ARE', 'POOR', 'AND', 'UNRELIABLE', 'THE', 'S', 'WAS', 'FAR', 'BETTER', 'BOTH', 'THE', 'LOCATION', 'AND', 'FUNCTIONALITY', 'WIRELESS', 'CHARGING', 'WITH', 'EVEN', 'THE', 'THINNEST', 'OF', 'CASES', 'DOES', 'NOT', 'WORK', 'SAMSUNG', 'BLOATWARE', 'SLOWS', 'DOWN', 'BOTH', 'PHONES', 'AND', 'IS', 'AN', 'ANNOYANCE', 'STILL', 'NO', 'WAY', 'TO', 'GET', 'RID', 'OF', 'THE', 'USELESS', 'AND', 'ANNOYING', 'BIXBY', 'OVERALL', 'IF', 'YOU', 'HAVE', 'A', 'CHANCE', 'TO', 'PURCHASE', 'THE', 'S', 'FOR', 'THE', 'SAME', 'PRICE', 'AS', 'THE', 'S', 'THE', 'S', 'IS', 'THE', 'BETTER', 'PHONE', 'IT', 'FEELS', 'MORE', 'SOLID', 'DESPITE', 'ITS', 'FLAWS', 'AND', 'IT', 'S', 'PERFORMANCE', 'IS', 'ALMOST', 'IDENTICAL', 'WHILE', 'YOU', 'GET', 'ONE', 'ADDITIONAL', 'UPDATE', 'WITH', 'THE', 'S', 'ANYONE', 'WHO', 'HAS', 'HAD', 'A', 'SAMSUNG', 'PHONE', 'IN', 'THE', 'LAST', 'SEVERAL', 'YEARS', 'KNOWS', 'THAT', 'SAMSUNG', 'PHONES', 'DON', 'T', 'LAST', 'THREE', 'YEARS', 'ANYWAY', 'SEE', 'THE', 'WELL', 'KNOWN', 'DEFECTIVE', 'MOISTURE', 'DETECTED', 'FLAW', 'UNFORTUNATELY', 'SAMSUNG', 'ABSOLUTELY', 'DOES', 'NOT', 'STAND', 'BEHIND', 'THEIR', 'PRODUCTS', 'THEIR', 'HOME', 'APPLIANCES', 'ARE', 'EVEN', 'LESS', 'RELIABLE', 'THAN', 'THEIR', 'PHONES', 'AND', 'TV', 'S', 'THEY', 'ARE', 'A', 'COMPANY', 'THAT', 'LOOKS', 'FOR', 'ANY', 'EXCUSE', 'TO', 'EVADE', 'THE', 'CONTRACTUAL', 'OBLIGATION', 'THROUGH', 'THEIR', 'WARRANTIES', 'I', 'E', 'MARKET', 'A', 'PHONE', 'AS', 'WATER', 'PROOF', 'THEN', 'WON', 'T', 'COVER', 'IT', 'BECAUSE', 'THEY', 'CLAIM', 'IT', 'WAS', 'PROBABLY', 'IN', 'SALT', 'WATER', 'ETC']\n"
          ],
          "name": "stdout"
        }
      ]
    },
    {
      "cell_type": "code",
      "metadata": {
        "colab": {
          "base_uri": "https://localhost:8080/"
        },
        "id": "68aB0ICEz7Sn",
        "outputId": "dce6e2de-9132-49df-bc58-1c2d7fa7c490"
      },
      "source": [
        "stop_words"
      ],
      "execution_count": null,
      "outputs": [
        {
          "output_type": "execute_result",
          "data": {
            "text/plain": [
              "{'a',\n",
              " 'about',\n",
              " 'above',\n",
              " 'after',\n",
              " 'again',\n",
              " 'against',\n",
              " 'ain',\n",
              " 'all',\n",
              " 'am',\n",
              " 'an',\n",
              " 'and',\n",
              " 'any',\n",
              " 'are',\n",
              " 'aren',\n",
              " \"aren't\",\n",
              " 'as',\n",
              " 'at',\n",
              " 'be',\n",
              " 'because',\n",
              " 'been',\n",
              " 'before',\n",
              " 'being',\n",
              " 'below',\n",
              " 'between',\n",
              " 'both',\n",
              " 'but',\n",
              " 'by',\n",
              " 'can',\n",
              " 'couldn',\n",
              " \"couldn't\",\n",
              " 'd',\n",
              " 'did',\n",
              " 'didn',\n",
              " \"didn't\",\n",
              " 'do',\n",
              " 'does',\n",
              " 'doesn',\n",
              " \"doesn't\",\n",
              " 'doing',\n",
              " 'don',\n",
              " \"don't\",\n",
              " 'down',\n",
              " 'during',\n",
              " 'each',\n",
              " 'few',\n",
              " 'for',\n",
              " 'from',\n",
              " 'further',\n",
              " 'had',\n",
              " 'hadn',\n",
              " \"hadn't\",\n",
              " 'has',\n",
              " 'hasn',\n",
              " \"hasn't\",\n",
              " 'have',\n",
              " 'haven',\n",
              " \"haven't\",\n",
              " 'having',\n",
              " 'he',\n",
              " 'her',\n",
              " 'here',\n",
              " 'hers',\n",
              " 'herself',\n",
              " 'him',\n",
              " 'himself',\n",
              " 'his',\n",
              " 'how',\n",
              " 'i',\n",
              " 'if',\n",
              " 'in',\n",
              " 'into',\n",
              " 'is',\n",
              " 'isn',\n",
              " \"isn't\",\n",
              " 'it',\n",
              " \"it's\",\n",
              " 'its',\n",
              " 'itself',\n",
              " 'just',\n",
              " 'll',\n",
              " 'm',\n",
              " 'ma',\n",
              " 'me',\n",
              " 'mightn',\n",
              " \"mightn't\",\n",
              " 'more',\n",
              " 'most',\n",
              " 'mustn',\n",
              " \"mustn't\",\n",
              " 'my',\n",
              " 'myself',\n",
              " 'needn',\n",
              " \"needn't\",\n",
              " 'no',\n",
              " 'nor',\n",
              " 'not',\n",
              " 'now',\n",
              " 'o',\n",
              " 'of',\n",
              " 'off',\n",
              " 'on',\n",
              " 'once',\n",
              " 'only',\n",
              " 'or',\n",
              " 'other',\n",
              " 'our',\n",
              " 'ours',\n",
              " 'ourselves',\n",
              " 'out',\n",
              " 'over',\n",
              " 'own',\n",
              " 're',\n",
              " 's',\n",
              " 'same',\n",
              " 'shan',\n",
              " \"shan't\",\n",
              " 'she',\n",
              " \"she's\",\n",
              " 'should',\n",
              " \"should've\",\n",
              " 'shouldn',\n",
              " \"shouldn't\",\n",
              " 'so',\n",
              " 'some',\n",
              " 'such',\n",
              " 't',\n",
              " 'than',\n",
              " 'that',\n",
              " \"that'll\",\n",
              " 'the',\n",
              " 'their',\n",
              " 'theirs',\n",
              " 'them',\n",
              " 'themselves',\n",
              " 'then',\n",
              " 'there',\n",
              " 'these',\n",
              " 'they',\n",
              " 'this',\n",
              " 'those',\n",
              " 'through',\n",
              " 'to',\n",
              " 'too',\n",
              " 'under',\n",
              " 'until',\n",
              " 'up',\n",
              " 've',\n",
              " 'very',\n",
              " 'was',\n",
              " 'wasn',\n",
              " \"wasn't\",\n",
              " 'we',\n",
              " 'were',\n",
              " 'weren',\n",
              " \"weren't\",\n",
              " 'what',\n",
              " 'when',\n",
              " 'where',\n",
              " 'which',\n",
              " 'while',\n",
              " 'who',\n",
              " 'whom',\n",
              " 'why',\n",
              " 'will',\n",
              " 'with',\n",
              " 'won',\n",
              " \"won't\",\n",
              " 'wouldn',\n",
              " \"wouldn't\",\n",
              " 'y',\n",
              " 'you',\n",
              " \"you'd\",\n",
              " \"you'll\",\n",
              " \"you're\",\n",
              " \"you've\",\n",
              " 'your',\n",
              " 'yours',\n",
              " 'yourself',\n",
              " 'yourselves'}"
            ]
          },
          "metadata": {
            "tags": []
          },
          "execution_count": 90
        }
      ]
    },
    {
      "cell_type": "code",
      "metadata": {
        "colab": {
          "base_uri": "https://localhost:8080/"
        },
        "id": "nsz5yVjLH1hh",
        "outputId": "3f92e1fd-2769-4c33-f19f-eaaf5665302c"
      },
      "source": [
        "\n",
        "#불용어 제거\n",
        "\n",
        "# 대문자용 불용어\n",
        "STOP_WORDS = set([])\n",
        "for w in stop_words:\n",
        "  STOP_WORDS.add(w.upper())\n",
        "STOP_WORDS\n",
        "\n",
        "result1 = []\n",
        "result2 = []\n",
        "\n",
        "for w in word_token1: \n",
        "    if w not in stop_words: \n",
        "        result1.append(w) \n",
        "#print(result1)\n",
        "for w in word_token2: \n",
        "    if w.lower() not in stop_words: \n",
        "        result2.append(w) \n",
        "print(result2)\n",
        "\n",
        "\n"
      ],
      "execution_count": null,
      "outputs": [
        {
          "output_type": "stream",
          "text": [
            "['RARELY', 'WRITE', 'REVIEWS', 'SAMSUNG', 'LATEST', 'ITERATION', 'IDIOT', 'CONSUMER', 'BUY', 'WHATEVER', 'PUT', 'CERTAINLY', 'DESERVES', 'ONE', 'EVERYTHING', 'PHONE', 'SCEAMS', 'CHEAP', 'TACKY', 'PLASTIC', 'BACKING', 'RECTANGULAR', 'BRICK', 'LIKE', 'DESIGN', 'COMPLETE', 'LACK', 'ACCESSORIES', 'COME', 'PHONE', 'PHONE', 'FEELS', 'LIKE', 'PRICED', 'COMPARE', 'PARTICULARLY', 'GREAT', 'BETTER', 'PHONE', 'FEELS', 'PREMIUM', 'THINNER', 'LOOKS', 'BETTER', 'OH', 'YEAH', 'ALSO', 'GB', 'RAM', 'COMPARED', 'GB', 'PHONE', 'PART', 'PHONES', 'SIMILAR', 'PERFORMANCE', 'WISE', 'FASTER', 'PROCESSOR', 'REALLY', 'NOTICE', 'DAY', 'DAY', 'USE', 'PHONE', 'RELATIVELY', 'POOR', 'BATTERY', 'LIFE', 'BETTER', 'LOOKING', 'SCREEN', 'EMBEDDED', 'FINGERPRINT', 'SENSOR', 'POOR', 'UNRELIABLE', 'FAR', 'BETTER', 'LOCATION', 'FUNCTIONALITY', 'WIRELESS', 'CHARGING', 'EVEN', 'THINNEST', 'CASES', 'WORK', 'SAMSUNG', 'BLOATWARE', 'SLOWS', 'PHONES', 'ANNOYANCE', 'STILL', 'WAY', 'GET', 'RID', 'USELESS', 'ANNOYING', 'BIXBY', 'OVERALL', 'CHANCE', 'PURCHASE', 'PRICE', 'BETTER', 'PHONE', 'FEELS', 'SOLID', 'DESPITE', 'FLAWS', 'PERFORMANCE', 'ALMOST', 'IDENTICAL', 'GET', 'ONE', 'ADDITIONAL', 'UPDATE', 'ANYONE', 'SAMSUNG', 'PHONE', 'LAST', 'SEVERAL', 'YEARS', 'KNOWS', 'SAMSUNG', 'PHONES', 'LAST', 'THREE', 'YEARS', 'ANYWAY', 'SEE', 'WELL', 'KNOWN', 'DEFECTIVE', 'MOISTURE', 'DETECTED', 'FLAW', 'UNFORTUNATELY', 'SAMSUNG', 'ABSOLUTELY', 'STAND', 'BEHIND', 'PRODUCTS', 'HOME', 'APPLIANCES', 'EVEN', 'LESS', 'RELIABLE', 'PHONES', 'TV', 'COMPANY', 'LOOKS', 'EXCUSE', 'EVADE', 'CONTRACTUAL', 'OBLIGATION', 'WARRANTIES', 'E', 'MARKET', 'PHONE', 'WATER', 'PROOF', 'COVER', 'CLAIM', 'PROBABLY', 'SALT', 'WATER', 'ETC']\n"
          ],
          "name": "stdout"
        }
      ]
    },
    {
      "cell_type": "code",
      "metadata": {
        "colab": {
          "base_uri": "https://localhost:8080/"
        },
        "id": "B-fHfAH-1rgR",
        "outputId": "a5dbb287-904a-4fb0-f4de-9d38f5c72019"
      },
      "source": [
        "result1"
      ],
      "execution_count": null,
      "outputs": [
        {
          "output_type": "execute_result",
          "data": {
            "text/plain": [
              "['love',\n",
              " 'phone',\n",
              " 'seriously',\n",
              " 'improvement',\n",
              " 'old',\n",
              " 'one',\n",
              " 'everything',\n",
              " 'works',\n",
              " 'designed',\n",
              " 'definitely',\n",
              " 'user',\n",
              " 'error',\n",
              " 'fingerprint',\n",
              " 'reader',\n",
              " 'battery',\n",
              " 'normally',\n",
              " 'lasts',\n",
              " 'day',\n",
              " 'times',\n",
              " 'charge',\n",
              " 'heavy',\n",
              " 'use',\n",
              " 'generally',\n",
              " 'charges',\n",
              " 'within',\n",
              " 'hour',\n",
              " 'life',\n",
              " 'good',\n",
              " 'getting',\n",
              " 'know',\n",
              " 'personalized',\n",
              " 'battery',\n",
              " 'adjustments',\n",
              " 'seems',\n",
              " 'awesome',\n",
              " 'far',\n",
              " 'best',\n",
              " 'thing',\n",
              " 'though',\n",
              " 'spend',\n",
              " 'absurd',\n",
              " 'amount',\n",
              " 'money',\n",
              " 'oh',\n",
              " 'color',\n",
              " 'favorite',\n",
              " 'one',\n",
              " 'person',\n",
              " 'found',\n",
              " 'helpful']"
            ]
          },
          "metadata": {
            "tags": []
          },
          "execution_count": 96
        }
      ]
    },
    {
      "cell_type": "code",
      "metadata": {
        "colab": {
          "base_uri": "https://localhost:8080/"
        },
        "id": "eIQXvJG-2ANh",
        "outputId": "0dd19039-fa1c-401e-c632-d70b65823325"
      },
      "source": [
        "result2"
      ],
      "execution_count": null,
      "outputs": [
        {
          "output_type": "execute_result",
          "data": {
            "text/plain": [
              "['RARELY',\n",
              " 'WRITE',\n",
              " 'REVIEWS',\n",
              " 'SAMSUNG',\n",
              " 'LATEST',\n",
              " 'ITERATION',\n",
              " 'IDIOT',\n",
              " 'CONSUMER',\n",
              " 'BUY',\n",
              " 'WHATEVER',\n",
              " 'PUT',\n",
              " 'CERTAINLY',\n",
              " 'DESERVES',\n",
              " 'ONE',\n",
              " 'EVERYTHING',\n",
              " 'PHONE',\n",
              " 'SCEAMS',\n",
              " 'CHEAP',\n",
              " 'TACKY',\n",
              " 'PLASTIC',\n",
              " 'BACKING',\n",
              " 'RECTANGULAR',\n",
              " 'BRICK',\n",
              " 'LIKE',\n",
              " 'DESIGN',\n",
              " 'COMPLETE',\n",
              " 'LACK',\n",
              " 'ACCESSORIES',\n",
              " 'COME',\n",
              " 'PHONE',\n",
              " 'PHONE',\n",
              " 'FEELS',\n",
              " 'LIKE',\n",
              " 'PRICED',\n",
              " 'COMPARE',\n",
              " 'PARTICULARLY',\n",
              " 'GREAT',\n",
              " 'BETTER',\n",
              " 'PHONE',\n",
              " 'FEELS',\n",
              " 'PREMIUM',\n",
              " 'THINNER',\n",
              " 'LOOKS',\n",
              " 'BETTER',\n",
              " 'OH',\n",
              " 'YEAH',\n",
              " 'ALSO',\n",
              " 'GB',\n",
              " 'RAM',\n",
              " 'COMPARED',\n",
              " 'GB',\n",
              " 'PHONE',\n",
              " 'PART',\n",
              " 'PHONES',\n",
              " 'SIMILAR',\n",
              " 'PERFORMANCE',\n",
              " 'WISE',\n",
              " 'FASTER',\n",
              " 'PROCESSOR',\n",
              " 'REALLY',\n",
              " 'NOTICE',\n",
              " 'DAY',\n",
              " 'DAY',\n",
              " 'USE',\n",
              " 'PHONE',\n",
              " 'RELATIVELY',\n",
              " 'POOR',\n",
              " 'BATTERY',\n",
              " 'LIFE',\n",
              " 'BETTER',\n",
              " 'LOOKING',\n",
              " 'SCREEN',\n",
              " 'EMBEDDED',\n",
              " 'FINGERPRINT',\n",
              " 'SENSOR',\n",
              " 'POOR',\n",
              " 'UNRELIABLE',\n",
              " 'FAR',\n",
              " 'BETTER',\n",
              " 'LOCATION',\n",
              " 'FUNCTIONALITY',\n",
              " 'WIRELESS',\n",
              " 'CHARGING',\n",
              " 'EVEN',\n",
              " 'THINNEST',\n",
              " 'CASES',\n",
              " 'WORK',\n",
              " 'SAMSUNG',\n",
              " 'BLOATWARE',\n",
              " 'SLOWS',\n",
              " 'PHONES',\n",
              " 'ANNOYANCE',\n",
              " 'STILL',\n",
              " 'WAY',\n",
              " 'GET',\n",
              " 'RID',\n",
              " 'USELESS',\n",
              " 'ANNOYING',\n",
              " 'BIXBY',\n",
              " 'OVERALL',\n",
              " 'CHANCE',\n",
              " 'PURCHASE',\n",
              " 'PRICE',\n",
              " 'BETTER',\n",
              " 'PHONE',\n",
              " 'FEELS',\n",
              " 'SOLID',\n",
              " 'DESPITE',\n",
              " 'FLAWS',\n",
              " 'PERFORMANCE',\n",
              " 'ALMOST',\n",
              " 'IDENTICAL',\n",
              " 'GET',\n",
              " 'ONE',\n",
              " 'ADDITIONAL',\n",
              " 'UPDATE',\n",
              " 'ANYONE',\n",
              " 'SAMSUNG',\n",
              " 'PHONE',\n",
              " 'LAST',\n",
              " 'SEVERAL',\n",
              " 'YEARS',\n",
              " 'KNOWS',\n",
              " 'SAMSUNG',\n",
              " 'PHONES',\n",
              " 'LAST',\n",
              " 'THREE',\n",
              " 'YEARS',\n",
              " 'ANYWAY',\n",
              " 'SEE',\n",
              " 'WELL',\n",
              " 'KNOWN',\n",
              " 'DEFECTIVE',\n",
              " 'MOISTURE',\n",
              " 'DETECTED',\n",
              " 'FLAW',\n",
              " 'UNFORTUNATELY',\n",
              " 'SAMSUNG',\n",
              " 'ABSOLUTELY',\n",
              " 'STAND',\n",
              " 'BEHIND',\n",
              " 'PRODUCTS',\n",
              " 'HOME',\n",
              " 'APPLIANCES',\n",
              " 'EVEN',\n",
              " 'LESS',\n",
              " 'RELIABLE',\n",
              " 'PHONES',\n",
              " 'TV',\n",
              " 'COMPANY',\n",
              " 'LOOKS',\n",
              " 'EXCUSE',\n",
              " 'EVADE',\n",
              " 'CONTRACTUAL',\n",
              " 'OBLIGATION',\n",
              " 'WARRANTIES',\n",
              " 'E',\n",
              " 'MARKET',\n",
              " 'PHONE',\n",
              " 'WATER',\n",
              " 'PROOF',\n",
              " 'COVER',\n",
              " 'CLAIM',\n",
              " 'PROBABLY',\n",
              " 'SALT',\n",
              " 'WATER',\n",
              " 'ETC']"
            ]
          },
          "metadata": {
            "tags": []
          },
          "execution_count": 98
        }
      ]
    },
    {
      "cell_type": "code",
      "metadata": {
        "colab": {
          "base_uri": "https://localhost:8080/"
        },
        "id": "wwWM4Q1BM1t_",
        "outputId": "5f96d81e-9500-4e91-9202-03f6809033bf"
      },
      "source": [
        "#WordNetLemmatizer 표제어 추출\n",
        "n = WordNetLemmatizer()\n",
        "\n",
        "# result1_lem = [n.lemmatize(w) for w in result1]\n",
        "# print(result1_lem)\n",
        "result2_lem = [n.lemmatize(w) for w in result2]\n",
        "print(result2_lem)"
      ],
      "execution_count": null,
      "outputs": [
        {
          "output_type": "stream",
          "text": [
            "['RARELY', 'WRITE', 'REVIEWS', 'SAMSUNG', 'LATEST', 'ITERATION', 'IDIOT', 'CONSUMER', 'BUY', 'WHATEVER', 'PUT', 'CERTAINLY', 'DESERVES', 'ONE', 'EVERYTHING', 'PHONE', 'SCEAMS', 'CHEAP', 'TACKY', 'PLASTIC', 'BACKING', 'RECTANGULAR', 'BRICK', 'LIKE', 'DESIGN', 'COMPLETE', 'LACK', 'ACCESSORIES', 'COME', 'PHONE', 'PHONE', 'FEELS', 'LIKE', 'PRICED', 'COMPARE', 'PARTICULARLY', 'GREAT', 'BETTER', 'PHONE', 'FEELS', 'PREMIUM', 'THINNER', 'LOOKS', 'BETTER', 'OH', 'YEAH', 'ALSO', 'GB', 'RAM', 'COMPARED', 'GB', 'PHONE', 'PART', 'PHONES', 'SIMILAR', 'PERFORMANCE', 'WISE', 'FASTER', 'PROCESSOR', 'REALLY', 'NOTICE', 'DAY', 'DAY', 'USE', 'PHONE', 'RELATIVELY', 'POOR', 'BATTERY', 'LIFE', 'BETTER', 'LOOKING', 'SCREEN', 'EMBEDDED', 'FINGERPRINT', 'SENSOR', 'POOR', 'UNRELIABLE', 'FAR', 'BETTER', 'LOCATION', 'FUNCTIONALITY', 'WIRELESS', 'CHARGING', 'EVEN', 'THINNEST', 'CASES', 'WORK', 'SAMSUNG', 'BLOATWARE', 'SLOWS', 'PHONES', 'ANNOYANCE', 'STILL', 'WAY', 'GET', 'RID', 'USELESS', 'ANNOYING', 'BIXBY', 'OVERALL', 'CHANCE', 'PURCHASE', 'PRICE', 'BETTER', 'PHONE', 'FEELS', 'SOLID', 'DESPITE', 'FLAWS', 'PERFORMANCE', 'ALMOST', 'IDENTICAL', 'GET', 'ONE', 'ADDITIONAL', 'UPDATE', 'ANYONE', 'SAMSUNG', 'PHONE', 'LAST', 'SEVERAL', 'YEARS', 'KNOWS', 'SAMSUNG', 'PHONES', 'LAST', 'THREE', 'YEARS', 'ANYWAY', 'SEE', 'WELL', 'KNOWN', 'DEFECTIVE', 'MOISTURE', 'DETECTED', 'FLAW', 'UNFORTUNATELY', 'SAMSUNG', 'ABSOLUTELY', 'STAND', 'BEHIND', 'PRODUCTS', 'HOME', 'APPLIANCES', 'EVEN', 'LESS', 'RELIABLE', 'PHONES', 'TV', 'COMPANY', 'LOOKS', 'EXCUSE', 'EVADE', 'CONTRACTUAL', 'OBLIGATION', 'WARRANTIES', 'E', 'MARKET', 'PHONE', 'WATER', 'PROOF', 'COVER', 'CLAIM', 'PROBABLY', 'SALT', 'WATER', 'ETC']\n"
          ],
          "name": "stdout"
        }
      ]
    },
    {
      "cell_type": "code",
      "metadata": {
        "colab": {
          "base_uri": "https://localhost:8080/"
        },
        "id": "sR76MMIL2JVz",
        "outputId": "d27e29cf-7ce7-4d74-e011-30ffa68f8b41"
      },
      "source": [
        "\"FLAWS\"  in result2_lem"
      ],
      "execution_count": null,
      "outputs": [
        {
          "output_type": "execute_result",
          "data": {
            "text/plain": [
              "True"
            ]
          },
          "metadata": {
            "tags": []
          },
          "execution_count": 101
        }
      ]
    },
    {
      "cell_type": "code",
      "metadata": {
        "colab": {
          "base_uri": "https://localhost:8080/"
        },
        "id": "uEXyWpouNsY2",
        "outputId": "840535ef-6654-4388-9cbb-c714f4766cd3"
      },
      "source": [
        "#PorterStemmer\n",
        "from nltk.stem import PorterStemmer\n",
        "s = PorterStemmer()\n",
        "# result1_stem = [s.stem(w) for w in result1]\n",
        "# result1_stem\n",
        "result2_stem = [s.stem(w) for w in result2]\n",
        "result2_stem\n"
      ],
      "execution_count": null,
      "outputs": [
        {
          "output_type": "execute_result",
          "data": {
            "text/plain": [
              "['rare',\n",
              " 'write',\n",
              " 'review',\n",
              " 'samsung',\n",
              " 'latest',\n",
              " 'iter',\n",
              " 'idiot',\n",
              " 'consum',\n",
              " 'buy',\n",
              " 'whatev',\n",
              " 'put',\n",
              " 'certainli',\n",
              " 'deserv',\n",
              " 'one',\n",
              " 'everyth',\n",
              " 'phone',\n",
              " 'sceam',\n",
              " 'cheap',\n",
              " 'tacki',\n",
              " 'plastic',\n",
              " 'back',\n",
              " 'rectangular',\n",
              " 'brick',\n",
              " 'like',\n",
              " 'design',\n",
              " 'complet',\n",
              " 'lack',\n",
              " 'accessori',\n",
              " 'come',\n",
              " 'phone',\n",
              " 'phone',\n",
              " 'feel',\n",
              " 'like',\n",
              " 'price',\n",
              " 'compar',\n",
              " 'particularli',\n",
              " 'great',\n",
              " 'better',\n",
              " 'phone',\n",
              " 'feel',\n",
              " 'premium',\n",
              " 'thinner',\n",
              " 'look',\n",
              " 'better',\n",
              " 'OH',\n",
              " 'yeah',\n",
              " 'also',\n",
              " 'GB',\n",
              " 'ram',\n",
              " 'compar',\n",
              " 'GB',\n",
              " 'phone',\n",
              " 'part',\n",
              " 'phone',\n",
              " 'similar',\n",
              " 'perform',\n",
              " 'wise',\n",
              " 'faster',\n",
              " 'processor',\n",
              " 'realli',\n",
              " 'notic',\n",
              " 'day',\n",
              " 'day',\n",
              " 'use',\n",
              " 'phone',\n",
              " 'rel',\n",
              " 'poor',\n",
              " 'batteri',\n",
              " 'life',\n",
              " 'better',\n",
              " 'look',\n",
              " 'screen',\n",
              " 'embed',\n",
              " 'fingerprint',\n",
              " 'sensor',\n",
              " 'poor',\n",
              " 'unreli',\n",
              " 'far',\n",
              " 'better',\n",
              " 'locat',\n",
              " 'function',\n",
              " 'wireless',\n",
              " 'charg',\n",
              " 'even',\n",
              " 'thinnest',\n",
              " 'case',\n",
              " 'work',\n",
              " 'samsung',\n",
              " 'bloatwar',\n",
              " 'slow',\n",
              " 'phone',\n",
              " 'annoy',\n",
              " 'still',\n",
              " 'way',\n",
              " 'get',\n",
              " 'rid',\n",
              " 'useless',\n",
              " 'annoy',\n",
              " 'bixbi',\n",
              " 'overal',\n",
              " 'chanc',\n",
              " 'purchas',\n",
              " 'price',\n",
              " 'better',\n",
              " 'phone',\n",
              " 'feel',\n",
              " 'solid',\n",
              " 'despit',\n",
              " 'flaw',\n",
              " 'perform',\n",
              " 'almost',\n",
              " 'ident',\n",
              " 'get',\n",
              " 'one',\n",
              " 'addit',\n",
              " 'updat',\n",
              " 'anyon',\n",
              " 'samsung',\n",
              " 'phone',\n",
              " 'last',\n",
              " 'sever',\n",
              " 'year',\n",
              " 'know',\n",
              " 'samsung',\n",
              " 'phone',\n",
              " 'last',\n",
              " 'three',\n",
              " 'year',\n",
              " 'anyway',\n",
              " 'see',\n",
              " 'well',\n",
              " 'known',\n",
              " 'defect',\n",
              " 'moistur',\n",
              " 'detect',\n",
              " 'flaw',\n",
              " 'unfortun',\n",
              " 'samsung',\n",
              " 'absolut',\n",
              " 'stand',\n",
              " 'behind',\n",
              " 'product',\n",
              " 'home',\n",
              " 'applianc',\n",
              " 'even',\n",
              " 'less',\n",
              " 'reliabl',\n",
              " 'phone',\n",
              " 'TV',\n",
              " 'compani',\n",
              " 'look',\n",
              " 'excus',\n",
              " 'evad',\n",
              " 'contractu',\n",
              " 'oblig',\n",
              " 'warranti',\n",
              " 'E',\n",
              " 'market',\n",
              " 'phone',\n",
              " 'water',\n",
              " 'proof',\n",
              " 'cover',\n",
              " 'claim',\n",
              " 'probabl',\n",
              " 'salt',\n",
              " 'water',\n",
              " 'etc']"
            ]
          },
          "metadata": {
            "tags": []
          },
          "execution_count": 103
        }
      ]
    },
    {
      "cell_type": "code",
      "metadata": {
        "colab": {
          "base_uri": "https://localhost:8080/",
          "height": 133
        },
        "id": "-Ymie8SVGstb",
        "outputId": "bc769b8d-9019-43d8-b96b-f0d2c14cba74"
      },
      "source": [
        "import tqdm\n",
        "tqdm i in range(1000):\n",
        "  print(i)"
      ],
      "execution_count": null,
      "outputs": [
        {
          "output_type": "error",
          "ename": "SyntaxError",
          "evalue": "ignored",
          "traceback": [
            "\u001b[0;36m  File \u001b[0;32m\"<ipython-input-108-868893c335de>\"\u001b[0;36m, line \u001b[0;32m2\u001b[0m\n\u001b[0;31m    tqdm i in range(1000):\u001b[0m\n\u001b[0m         ^\u001b[0m\n\u001b[0;31mSyntaxError\u001b[0m\u001b[0;31m:\u001b[0m invalid syntax\n"
          ]
        }
      ]
    },
    {
      "cell_type": "code",
      "metadata": {
        "id": "crDPoMg9OkBe"
      },
      "source": [
        ""
      ],
      "execution_count": null,
      "outputs": []
    }
  ]
}
