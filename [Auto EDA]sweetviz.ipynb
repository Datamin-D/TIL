{
 "cells": [
  {
   "cell_type": "code",
   "execution_count": 1,
   "metadata": {},
   "outputs": [
    {
     "name": "stdout",
     "output_type": "stream",
     "text": [
      "Collecting sweetviz\n",
      "  Using cached sweetviz-2.0.4-py3-none-any.whl (15.1 MB)\n",
      "Collecting matplotlib>=3.1.3\n",
      "  Using cached matplotlib-3.3.3-cp37-cp37m-win_amd64.whl (8.5 MB)\n",
      "Collecting importlib-resources>=1.2.0\n",
      "  Using cached importlib_resources-4.1.1-py3-none-any.whl (22 kB)\n",
      "Requirement already satisfied: pandas!=1.0.0,!=1.0.1,!=1.0.2,>=0.25.3 in c:\\users\\mama\\anaconda3\\lib\\site-packages (from sweetviz) (1.2.0)\n",
      "Requirement already satisfied: numpy>=1.16.0 in c:\\users\\mama\\anaconda3\\lib\\site-packages (from sweetviz) (1.16.4)\n",
      "Collecting scipy>=1.3.2\n",
      "  Using cached scipy-1.6.0-cp37-cp37m-win_amd64.whl (32.5 MB)\n",
      "Collecting jinja2>=2.11.1\n",
      "  Using cached Jinja2-2.11.2-py2.py3-none-any.whl (125 kB)\n",
      "Requirement already satisfied: tqdm>=4.43.0 in c:\\users\\mama\\anaconda3\\lib\\site-packages (from sweetviz) (4.55.1)\n",
      "Requirement already satisfied: python-dateutil>=2.1 in c:\\users\\mama\\anaconda3\\lib\\site-packages (from matplotlib>=3.1.3->sweetviz) (2.8.0)\n",
      "Requirement already satisfied: cycler>=0.10 in c:\\users\\mama\\anaconda3\\lib\\site-packages (from matplotlib>=3.1.3->sweetviz) (0.10.0)\n",
      "Requirement already satisfied: kiwisolver>=1.0.1 in c:\\users\\mama\\anaconda3\\lib\\site-packages (from matplotlib>=3.1.3->sweetviz) (1.1.0)\n",
      "Requirement already satisfied: pyparsing!=2.0.4,!=2.1.2,!=2.1.6,>=2.0.3 in c:\\users\\mama\\anaconda3\\lib\\site-packages (from matplotlib>=3.1.3->sweetviz) (2.4.0)\n",
      "Collecting pillow>=6.2.0\n",
      "  Using cached Pillow-8.1.0-cp37-cp37m-win_amd64.whl (2.2 MB)\n",
      "Requirement already satisfied: zipp>=0.4; python_version < \"3.8\" in c:\\users\\mama\\anaconda3\\lib\\site-packages (from importlib-resources>=1.2.0->sweetviz) (0.5.1)\n",
      "Requirement already satisfied: pytz>=2017.3 in c:\\users\\mama\\anaconda3\\lib\\site-packages (from pandas!=1.0.0,!=1.0.1,!=1.0.2,>=0.25.3->sweetviz) (2019.1)\n",
      "Requirement already satisfied: MarkupSafe>=0.23 in c:\\users\\mama\\anaconda3\\lib\\site-packages (from jinja2>=2.11.1->sweetviz) (1.1.1)\n",
      "Requirement already satisfied: six>=1.5 in c:\\users\\mama\\anaconda3\\lib\\site-packages (from python-dateutil>=2.1->matplotlib>=3.1.3->sweetviz) (1.12.0)\n",
      "Requirement already satisfied: setuptools in c:\\users\\mama\\anaconda3\\lib\\site-packages (from kiwisolver>=1.0.1->matplotlib>=3.1.3->sweetviz) (41.0.1)\n",
      "Installing collected packages: pillow, matplotlib, importlib-resources, scipy, jinja2, sweetviz\n",
      "  Attempting uninstall: pillow\n",
      "    Found existing installation: Pillow 6.1.0\n",
      "    Uninstalling Pillow-6.1.0:\n",
      "      Successfully uninstalled Pillow-6.1.0\n",
      "  Attempting uninstall: matplotlib\n",
      "    Found existing installation: matplotlib 3.1.0\n",
      "    Uninstalling matplotlib-3.1.0:\n",
      "      Successfully uninstalled matplotlib-3.1.0\n",
      "  Attempting uninstall: scipy\n",
      "    Found existing installation: scipy 1.2.1\n",
      "    Uninstalling scipy-1.2.1:\n",
      "      Successfully uninstalled scipy-1.2.1\n",
      "  Attempting uninstall: jinja2\n",
      "    Found existing installation: Jinja2 2.10.1\n",
      "    Uninstalling Jinja2-2.10.1:\n",
      "      Successfully uninstalled Jinja2-2.10.1\n",
      "Successfully installed importlib-resources-4.1.1 jinja2-2.11.2 matplotlib-3.3.3 pillow-8.1.0 scipy-1.6.0 sweetviz-2.0.4\n"
     ]
    },
    {
     "name": "stderr",
     "output_type": "stream",
     "text": [
      "ERROR: scipy 1.6.0 has requirement numpy>=1.16.5, but you'll have numpy 1.16.4 which is incompatible.\n",
      "WARNING: You are using pip version 20.1.1; however, version 20.3.3 is available.\n",
      "You should consider upgrading via the 'c:\\users\\mama\\anaconda3\\python.exe -m pip install --upgrade pip' command.\n"
     ]
    }
   ],
   "source": [
    "! pip install sweetviz"
   ]
  },
  {
   "cell_type": "code",
   "execution_count": 8,
   "metadata": {},
   "outputs": [
    {
     "name": "stdout",
     "output_type": "stream",
     "text": [
      "Requirement already satisfied: numpy in c:\\users\\mama\\anaconda3\\lib\\site-packages (1.19.5)\n"
     ]
    }
   ],
   "source": [
    "! pip install numpy --upgrade"
   ]
  },
  {
   "cell_type": "code",
   "execution_count": 1,
   "metadata": {},
   "outputs": [],
   "source": [
    "#2. loading data\n",
    "\n",
    "import sweetviz\n",
    "import pandas as pd\n",
    "train = pd.read_csv(r\"C:\\Users\\mama\\Downloads\\train.csv\")\n",
    "test = pd.read_csv(r\"C:\\Users\\mama\\Downloads\\test.csv\")"
   ]
  },
  {
   "cell_type": "code",
   "execution_count": 2,
   "metadata": {},
   "outputs": [
    {
     "data": {
      "application/vnd.jupyter.widget-view+json": {
       "model_id": "c40111215df14fb895912ba7977482f5",
       "version_major": 2,
       "version_minor": 0
      },
      "text/plain": [
       "                                             |                                             | [  0%]   00:00 ->…"
      ]
     },
     "metadata": {},
     "output_type": "display_data"
    }
   ],
   "source": [
    "#3. \n",
    "my_report = sweetviz.compare([train, \"Train\"], [test, \"Test\"], \"Survived\")\n",
    "#sweetviz.compare([traindf, \"Train\"], [testdf, \"Test\"], \"target column\")"
   ]
  },
  {
   "cell_type": "code",
   "execution_count": 3,
   "metadata": {},
   "outputs": [
    {
     "name": "stdout",
     "output_type": "stream",
     "text": [
      "Report Report.html was generated! NOTEBOOK/COLAB USERS: the web browser MAY not pop up, regardless, the report IS saved in your notebook/colab files.\n"
     ]
    }
   ],
   "source": [
    "my_report.show_html(\"Report.html\") # Not providing a filename will default to SWEETVIZ_REPORT.html"
   ]
  },
  {
   "cell_type": "code",
   "execution_count": 5,
   "metadata": {},
   "outputs": [
    {
     "data": {
      "application/vnd.jupyter.widget-view+json": {
       "model_id": "131e4da479404a73b6dcb93b053972f8",
       "version_major": 2,
       "version_minor": 0
      },
      "text/plain": [
       "                                             |                                             | [  0%]   00:00 ->…"
      ]
     },
     "metadata": {},
     "output_type": "display_data"
    },
    {
     "name": "stdout",
     "output_type": "stream",
     "text": [
      "Report Report.html was generated! NOTEBOOK/COLAB USERS: the web browser MAY not pop up, regardless, the report IS saved in your notebook/colab files.\n"
     ]
    }
   ],
   "source": [
    "#text data 를 category 로 강제하기.\n",
    "feature_config = sweetviz.FeatureConfig(skip=\"PassengerId\", force_cat=[\"Ticket\"])\n",
    "my_report = sweetviz.compare([train, \"Train\"], [test, \"Test\"], \"Survived\", feature_config)\n",
    "my_report.show_html(\"Report.html\") # Not providing a filename will default to SWEETVIZ_REPORT.html"
   ]
  },
  {
   "cell_type": "code",
   "execution_count": 6,
   "metadata": {},
   "outputs": [
    {
     "data": {
      "application/vnd.jupyter.widget-view+json": {
       "model_id": "62712d5134894581ac4bbb399e089991",
       "version_major": 2,
       "version_minor": 0
      },
      "text/plain": [
       "                                             |                                             | [  0%]   00:00 ->…"
      ]
     },
     "metadata": {},
     "output_type": "display_data"
    },
    {
     "name": "stdout",
     "output_type": "stream",
     "text": [
      "Report SWEETVIZ_REPORT.html was generated! NOTEBOOK/COLAB USERS: the web browser MAY not pop up, regardless, the report IS saved in your notebook/colab files.\n"
     ]
    }
   ],
   "source": [
    "#Comparing sub-populations (e.g. Male vs Female)\n",
    "my_report = sweetviz.compare_intra(train, train[\"Sex\"] == 'male', [\"Male\", \"Female\"], 'Survived')\n",
    "my_report.show_html() # Not providing a filename will default to SWEETVIZ_REPORT.html"
   ]
  },
  {
   "cell_type": "code",
   "execution_count": null,
   "metadata": {},
   "outputs": [],
   "source": []
  }
 ],
 "metadata": {
  "kernelspec": {
   "display_name": "Python 3",
   "language": "python",
   "name": "python3"
  },
  "language_info": {
   "codemirror_mode": {
    "name": "ipython",
    "version": 3
   },
   "file_extension": ".py",
   "mimetype": "text/x-python",
   "name": "python",
   "nbconvert_exporter": "python",
   "pygments_lexer": "ipython3",
   "version": "3.7.3"
  }
 },
 "nbformat": 4,
 "nbformat_minor": 4
}
